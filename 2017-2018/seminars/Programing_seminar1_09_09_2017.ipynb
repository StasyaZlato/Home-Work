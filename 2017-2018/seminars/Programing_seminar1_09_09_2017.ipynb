{
 "cells": [
  {
   "cell_type": "code",
   "execution_count": 1,
   "metadata": {
    "collapsed": true
   },
   "outputs": [],
   "source": [
    "import urllib.request\n",
    "req = urllib.request.Request('https://yandex.ru/pogoda/moscow/')\n",
    "with urllib.request.urlopen(req) as response:\n",
    "    html = response.read().decode('utf-8')\n"
   ]
  },
  {
   "cell_type": "code",
   "execution_count": 2,
   "metadata": {},
   "outputs": [
    {
     "name": "stdout",
     "output_type": "stream",
     "text": [
      "<!DOCTYPE html><html class=\"i-ua_js_no i-ua_css_standard\" lang=\"ru\"><head><meta charset=\"utf-8\"/><meta http-equiv=\"X-UA-Compatible\" content=\"IE=edge\"/><title>Прогноз погоды в Москве на 10 дней — Яндекс.Погода</\n"
     ]
    }
   ],
   "source": [
    "print(html[:210])"
   ]
  },
  {
   "cell_type": "code",
   "execution_count": 3,
   "metadata": {
    "collapsed": true
   },
   "outputs": [],
   "source": [
    "import re\n",
    "regcloud = re.compile('<span class=\"current-weather__comment\">.*?</span>')\n",
    "clouds = regcloud.findall(html)\n",
    "regtemp = re.compile('<div class=\"current-weather__thermometer current-weather__thermometer_type_now\">.*?</div>')\n",
    "temp = regtemp.findall(html)\n"
   ]
  },
  {
   "cell_type": "code",
   "execution_count": 4,
   "metadata": {},
   "outputs": [
    {
     "name": "stdout",
     "output_type": "stream",
     "text": [
      "1\n",
      "1\n"
     ]
    }
   ],
   "source": [
    "print(len(clouds))\n",
    "print(len(temp))"
   ]
  },
  {
   "cell_type": "code",
   "execution_count": 5,
   "metadata": {},
   "outputs": [
    {
     "name": "stdout",
     "output_type": "stream",
     "text": [
      "['<span class=\"current-weather__comment\">пасмурно</span>']\n",
      "['<div class=\"current-weather__thermometer current-weather__thermometer_type_now\">+15\\u2009°C</div>']\n"
     ]
    }
   ],
   "source": [
    "print(clouds)\n",
    "print(temp)"
   ]
  },
  {
   "cell_type": "code",
   "execution_count": 6,
   "metadata": {},
   "outputs": [
    {
     "name": "stdout",
     "output_type": "stream",
     "text": [
      "Погода в Москве сегодня: \n",
      "пасмурно\n",
      "+15 °C\n"
     ]
    }
   ],
   "source": [
    "print('Погода в Москве сегодня: ')\n",
    "new_clouds = []\n",
    "regTag = re.compile('<.*?>', flags=re.U | re.DOTALL)\n",
    "regSpace = re.compile('\\s{2,}', flags=re.U | re.DOTALL)\n",
    "for c in clouds:\n",
    "    clean_t = regSpace.sub(\"\", c)\n",
    "    clean_t = regTag.sub(\"\", clean_t)\n",
    "    new_clouds.append(clean_t)\n",
    "for c in new_clouds:\n",
    "    print(c)\n",
    "new_temp = []\n",
    "regTag2 = re.compile('<.*?>', flags=re.U | re.DOTALL)\n",
    "regSpace2 = re.compile('\\s{2,}', flags=re.U | re.DOTALL)\n",
    "for t in temp:\n",
    "    clean_t = regSpace2.sub(\"\", t)\n",
    "    clean_t = regTag2.sub(\"\", clean_t)\n",
    "    new_temp.append(clean_t)\n",
    "for t in new_temp:\n",
    "    print(t)\n"
   ]
  },
  {
   "cell_type": "code",
   "execution_count": 7,
   "metadata": {
    "collapsed": true
   },
   "outputs": [],
   "source": [
    "# восход и закат\n",
    "regsun = re.compile('<span class=\"current-weather__info-label\">Восход: </span>.*?<span class.*?>')\n",
    "sun = regsun.findall(html)\n",
    "regnight = re.compile('<span class=\"current-weather__info-label current-weather__info-label_type_sunset\">Закат: </span>.*?</div>')\n",
    "night = regnight.findall(html)"
   ]
  },
  {
   "cell_type": "code",
   "execution_count": 8,
   "metadata": {},
   "outputs": [
    {
     "name": "stdout",
     "output_type": "stream",
     "text": [
      "['<span class=\"current-weather__info-label\">Восход: </span>05:59<span class=\"current-weather__info-label current-weather__info-label_type_sunset\">']\n",
      "['<span class=\"current-weather__info-label current-weather__info-label_type_sunset\">Закат: </span>18:49</div>']\n"
     ]
    }
   ],
   "source": [
    "print(sun)\n",
    "print(night)"
   ]
  },
  {
   "cell_type": "code",
   "execution_count": 9,
   "metadata": {},
   "outputs": [
    {
     "name": "stdout",
     "output_type": "stream",
     "text": [
      "Восход: 05:59\n",
      "Закат: 18:49\n"
     ]
    }
   ],
   "source": [
    "new_sun = []\n",
    "new_night = []\n",
    "regTag = re.compile('<.*?>', flags=re.U | re.DOTALL)\n",
    "regSpace = re.compile('\\s{2,}', flags=re.U | re.DOTALL)\n",
    "for c in sun:\n",
    "    clean_t = regSpace.sub(\"\", c)\n",
    "    clean_t = regTag.sub(\"\", clean_t)\n",
    "    new_sun.append(clean_t)\n",
    "for c in new_sun:\n",
    "    print(c)\n",
    "for n in night:\n",
    "    clean_t = regSpace.sub(\"\", n)\n",
    "    clean_t = regTag.sub(\"\", clean_t)\n",
    "    new_night.append(clean_t)\n",
    "for n in new_night:\n",
    "    print(n)"
   ]
  },
  {
   "cell_type": "code",
   "execution_count": null,
   "metadata": {
    "collapsed": true
   },
   "outputs": [],
   "source": []
  },
  {
   "cell_type": "code",
   "execution_count": null,
   "metadata": {
    "collapsed": true
   },
   "outputs": [],
   "source": []
  }
 ],
 "metadata": {
  "kernelspec": {
   "display_name": "Python 3",
   "language": "python",
   "name": "python3"
  },
  "language_info": {
   "codemirror_mode": {
    "name": "ipython",
    "version": 3
   },
   "file_extension": ".py",
   "mimetype": "text/x-python",
   "name": "python",
   "nbconvert_exporter": "python",
   "pygments_lexer": "ipython3",
   "version": "3.6.0"
  }
 },
 "nbformat": 4,
 "nbformat_minor": 2
}
