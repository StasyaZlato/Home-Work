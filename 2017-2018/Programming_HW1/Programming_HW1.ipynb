{
 "cells": [
  {
   "cell_type": "code",
   "execution_count": 1,
   "metadata": {
    "collapsed": true
   },
   "outputs": [],
   "source": [
    "import urllib.request\n",
    "req = urllib.request.Request('https://gg12.ru')\n",
    "with urllib.request.urlopen(req) as response:\n",
    "    html = response.read().decode('utf-8')"
   ]
  },
  {
   "cell_type": "code",
   "execution_count": 2,
   "metadata": {},
   "outputs": [
    {
     "name": "stdout",
     "output_type": "stream",
     "text": [
      "<!DOCTYPE html>\r\n",
      "<html lang=\"ru-RU\">\r\n",
      "<head>\r\n",
      "<meta charset=\"UTF-8\">\r\n",
      "<meta name=\"viewport\" content=\"width=device-width, initial-scale=1\">\r\n",
      "<link rel=\"profile\" href=\"http://gmpg.org/xfn/11\">\r\n",
      "<link re\n"
     ]
    }
   ],
   "source": [
    "print (html[:200])"
   ]
  },
  {
   "cell_type": "code",
   "execution_count": 3,
   "metadata": {
    "collapsed": true
   },
   "outputs": [],
   "source": [
    "import re\n",
    "regTitle = re.compile('<h3 class=\"post-title\">.*?</h3>', flags = re.DOTALL)\n",
    "titles = regTitle.findall(html)\n"
   ]
  },
  {
   "cell_type": "code",
   "execution_count": 5,
   "metadata": {},
   "outputs": [
    {
     "name": "stdout",
     "output_type": "stream",
     "text": [
      "['<h3 class=\"post-title\"><a href=\"https://gg12.ru/zhiteli-marij-el-prodolzhayut-samovolno-zahvatyvat-zemlyu/\">Жители Марий Эл продолжают самовольно захватывать землю</a></h3>', '<h3 class=\"post-title\"><a href=\"https://gg12.ru/v-marij-el-pervokursniki-vuzov-i-ssuzov-vpervye-budut-davat-klyatvu-rossijskogo-studenta/\">В Марий Эл первокурсники вузов и ссузов впервые будут давать Клятву российского студента</a></h3>', '<h3 class=\"post-title\"><a href=\"https://gg12.ru/v-marij-el-za-minuvshie-sutki-sluchilsya-vsplesk-avarij/\">В Марий Эл за минувшие сутки случился всплеск аварий</a></h3>']\n"
     ]
    }
   ],
   "source": [
    "print(titles[:3])"
   ]
  },
  {
   "cell_type": "code",
   "execution_count": 10,
   "metadata": {},
   "outputs": [
    {
     "name": "stdout",
     "output_type": "stream",
     "text": [
      "Жители Марий Эл продолжают самовольно захватывать землю\n",
      "В Марий Эл первокурсники вузов и ссузов впервые будут давать Клятву российского студента\n",
      "В Марий Эл за минувшие сутки случился всплеск аварий\n",
      "В Йошкар-Оле кадеты будут доказывать, кто из них лучший\n",
      "В Марий Эл стартует Всероссийский конкурс «Не жди перемен! Твори перемены!»\n",
      "В Марий Эл начались досрочные выборы Главы РМЭ\n",
      "В Марий Эл более 1000 полицейских обеспечат порядок в день выборов\n",
      "В Марий Эл спасатели проверили избирательные участки\n",
      "В Марий Эл спасатели встретят выборы в режиме повышенной готовности\n",
      "Солнцева: Выборы 10 сентября – голос не за кандидата, а за будущее Марий Эл\n",
      "В Марий Эл более 1,4 % избирателей будут голосовать по месту нахождения\n",
      "Избиратели, испытывающие трудности при голосовании на комплексах электронного голосования (КЭГ), могут попросить помощи\n",
      "Виктор Кидяев поздравляет с Днем знаний\n",
      "Поздравление мэра г. Йошкар-Олы Е.В. Маслова с Днем знаний\n",
      "Поздравление временно исполняющего обязанностиГлавы Республики Марий Эл А.А.Евстифеева с Днем знаний!\n"
     ]
    }
   ],
   "source": [
    "new_titles = []\n",
    "regTag = re.compile('<.*?>', re.DOTALL)\n",
    "regSpace = re.compile('\\s{2,}', re.DOTALL)\n",
    "for title in titles:\n",
    "    title1 = regSpace.sub(\"\", title)\n",
    "    title1 = regTag.sub(\"\", title1)\n",
    "    new_titles.append(title1)\n",
    "for t in new_titles:\n",
    "    print (t)"
   ]
  },
  {
   "cell_type": "code",
   "execution_count": null,
   "metadata": {
    "collapsed": true
   },
   "outputs": [],
   "source": []
  }
 ],
 "metadata": {
  "kernelspec": {
   "display_name": "Python 3",
   "language": "python",
   "name": "python3"
  },
  "language_info": {
   "codemirror_mode": {
    "name": "ipython",
    "version": 3
   },
   "file_extension": ".py",
   "mimetype": "text/x-python",
   "name": "python",
   "nbconvert_exporter": "python",
   "pygments_lexer": "ipython3",
   "version": "3.6.0"
  }
 },
 "nbformat": 4,
 "nbformat_minor": 2
}
